{
 "cells": [
  {
   "cell_type": "markdown",
   "id": "9c9d49d1",
   "metadata": {},
   "source": [
    "# a3_painting_estimator - Painting Estimator\n",
    "\n",
    "## Developer: Samuel Freed\n",
    "\n",
    "## Course: LIS4369\n",
    "\n",
    "## Semester: Fall 2021"
   ]
  },
  {
   "cell_type": "code",
   "execution_count": null,
   "id": "74a5cede",
   "metadata": {},
   "outputs": [],
   "source": [
    "SQFT_PER_GALLON =350"
   ]
  },
  {
   "cell_type": "code",
   "execution_count": null,
   "id": "59448cb4",
   "metadata": {},
   "outputs": [],
   "source": [
    "def get_requirements():\n",
    "    print(\"Painting Estimator\");\n",
    "    print(\"\\nProgram Requirements:\\n\"+\n",
    "    \"1. Calculate home interior paint cost (w/0 primer).\\n\"+\n",
    "    \"2. Must use float data types.\\n\"+\n",
    "    \"3. Must use SQFT_PER_GALLON constant.\\n\"+\n",
    "    \"4. Nust use iteration structure.\\n\"+\n",
    "    \"5. Format, right-align numbers, and round to two decimal places.\\n\"+\n",
    "    \"6. Create at least five functios that are called by the program:\\n\"+\n",
    "    \"\\ta. main(): calls two other functions: get_requirements() and estimate_painting_cost()\\n\"+\n",
    "    \"\\tb. get_requirements(): displays the program requirements.\\n\"+\n",
    "    \"\\tc. estimate_painting_cost(): calculates interior home painting, and calls print functions.\\n\"+\n",
    "    \"\\td. print_painting_estimate(): displays painting costs.\\n\"+\n",
    "    \"\\te. print_painting_percentage(): displays paiting costs percentages.\\n\");"
   ]
  },
  {
   "cell_type": "code",
   "execution_count": null,
   "id": "cd499135",
   "metadata": {},
   "outputs": [],
   "source": [
    "def estimate_painting_cost():\n",
    "    user_continue = \"y\"\n",
    "    while user_continue == \"y\":\n",
    "        print(\"\\nInput:\")\n",
    "        sqft = float(input(\"Enter total interior sq ft: \"))\n",
    "        ppg = float(input(\"Enter price per gallon of paint: \"))\n",
    "        rate = float(input(\"Enter painting rater per sq ft: \"))\n",
    "\n",
    "        print(\"\\nOutput:\")\n",
    "        print_painting_estimate(sqft,ppg,rate)\n",
    "        print_painting_percentage(sqft,ppg,rate)\n",
    "\n",
    "        valid_input =False\n",
    "        while valid_input != True:\n",
    "            user_continue = input(\"Estimate another paint job? (y/n): \").lower()\n",
    "            valid_input = user_continue == \"y\" or user_continue == \"n\"\n",
    "    print(\"\\nThank you for using our Painting Estimator\")\n",
    "    print(\"\\nPlease see our web site: http://www.mysite.com\")\n",
    "    print()"
   ]
  },
  {
   "cell_type": "code",
   "execution_count": null,
   "id": "95ab811b",
   "metadata": {},
   "outputs": [],
   "source": [
    "def print_painting_estimate(sqft, ppg, rate):\n",
    "    gallons = sqft / SQFT_PER_GALLON\n",
    "    print(\"{0:23} {1:>9}\".format(\"Item\", \"Amount\"))\n",
    "    print(\"{0:23} {1:>9,.2f}\".format(\"Total Sq Ft:\", sqft))\n",
    "    print(\"{0:23} {1:>9,.2f}\".format(\"Sq Ft per Gallon:\", SQFT_PER_GALLON))\n",
    "    print(\"{0:23} {1:>9,.2f}\".format(\"Number of Gallons:\", gallons))\n",
    "    print(\"{0:23} {1:>8,.2f}\".format(\"Paint Per Gallon:\", ppg))\n",
    "    print(\"{0:23} {1:>8,.2f}\".format(\"Labor per Sq Ft:\", rate))\n",
    "    print()"
   ]
  },
  {
   "cell_type": "code",
   "execution_count": null,
   "id": "31afb926",
   "metadata": {},
   "outputs": [],
   "source": [
    "def print_painting_percentage(sqft, ppg, rate):\n",
    "    gallons = sqft / SQFT_PER_GALLON\n",
    "    total_paint = gallons * ppg\n",
    "    total_labor = rate * sqft\n",
    "    total = total_paint + total_labor\n",
    "    pct_paint = total_paint / total * 100\n",
    "    pct_labor = total_labor / total * 100\n",
    "    pct_total = pct_paint + pct_labor\n",
    "    print(\"{0:9} {1:>10} {2:>12}\".format(\"Cost\", \"Amount\", \"Percentage\"))\n",
    "    print(\"{0:9} {1:>9,.2f} {2:>11.2f}%\".format(\"Paint:\", total_paint, pct_paint))\n",
    "    print(\"{0:9} {1:>9,.2f} {2:>11.2f}%\".format(\"Labor:\", total_labor, pct_labor))\n",
    "    print(\"{0:9} {1:>9,.2f} {2:>11.2f}%\".format(\"Total:\", total, pct_total))\n",
    "    print()"
   ]
  },
  {
   "cell_type": "code",
   "execution_count": null,
   "id": "e8a8fa8f",
   "metadata": {},
   "outputs": [],
   "source": [
    "import functions as f\n",
    "\n",
    "def main():\n",
    "    f.get_requirements()\n",
    "    f.estimate_painting_cost()\n",
    "\n",
    "if __name__ == \"__main__\":\n",
    "    main()"
   ]
  }
 ],
 "metadata": {
  "kernelspec": {
   "display_name": "Python 3",
   "language": "python",
   "name": "python3"
  },
  "language_info": {
   "codemirror_mode": {
    "name": "ipython",
    "version": 3
   },
   "file_extension": ".py",
   "mimetype": "text/x-python",
   "name": "python",
   "nbconvert_exporter": "python",
   "pygments_lexer": "ipython3",
   "version": "3.8.8"
  }
 },
 "nbformat": 4,
 "nbformat_minor": 5
}
