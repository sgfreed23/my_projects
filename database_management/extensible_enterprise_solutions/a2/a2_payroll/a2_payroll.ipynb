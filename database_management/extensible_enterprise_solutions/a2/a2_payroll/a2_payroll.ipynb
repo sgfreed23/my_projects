{
 "cells": [
  {
   "cell_type": "markdown",
   "id": "4ab4477a",
   "metadata": {},
   "source": [
    "# a2_payroll - Payroll Calculation\n",
    "### Developer: Samuel Freed\n",
    "### Course: LIS 4369\n",
    "### Semester: Fall 2021\n",
    "### Program Requirement\n",
    "    1. Must use float data type for user input\n",
    "    2. Must round calculations to two decimal places\n",
    "    3. Must format currency with dollar sign, and to two places"
   ]
  },
  {
   "cell_type": "code",
   "execution_count": 1,
   "id": "5a8deabf",
   "metadata": {},
   "outputs": [],
   "source": [
    "def get_requirements():\n",
    "    print(\"Payroll Calcuator\");\n",
    "    print(\"\\nProgram Requirements\\n\"+\n",
    "    \"1. Must use float data type for user input.\\n\"+\n",
    "    \"2. Overtime rate: 1.5 times hourly rate (hours over 40).\\n\"+\n",
    "    \"3. Holiday rate: 2.0 times hourly rate (all holiday hours).\\n\"+\n",
    "    \"4. Must format currency with dollar sign, and round to two decimal places.\\n\"+\n",
    "    \"5. Create at least three functios that are caed by the program:\\n\"+\n",
    "    \"\\ta. main(): cals at least two other functions\"+\n",
    "    \"\\tb. get_requirements(): displays the program requirements.\"+\n",
    "    \"\\tc. calculate_payroll(): calcuates an individual one week paycheck.\");"
   ]
  },
  {
   "cell_type": "code",
   "execution_count": 2,
   "id": "80fc83ee",
   "metadata": {},
   "outputs": [],
   "source": [
    "def payroll():\n",
    "    print(\"\\nInput:\\n\");\n",
    "    standard_hours = float(input(\"Enter hours worked: \"));\n",
    "    holiday_hours = float(input(\"Enter holiday hours: \"));\n",
    "    hour_pay_rate = float(input(\"Enter hourly pay rate: \"));\n",
    "\n",
    "    if standard_hours<= 40:\n",
    "        base_pay = standard_hours * hour_pay_rate\n",
    "    else:\n",
    "        base_pay = 40 * hour_pay_rate\n",
    "    holiday_pay = 2 * (holiday_hours * hour_pay_rate)\n",
    "\n",
    "    if standard_hours > 40:\n",
    "        overtime_pay = ((standard_hours - 40) * hour_pay_rate) * 1.5\n",
    "    else:\n",
    "        overtime_pay = 0\n",
    "    gross_pay = base_pay + holiday_pay + overtime_pay\n",
    "    \n",
    "    print(\"\\nOutput:\\n\");\n",
    "    print(\"Base pay: \"+ \"${0:.2f}\".format(base_pay));\n",
    "    print(\"Overtime pay: \"+ \"${0:.2f}\".format(overtime_pay));\n",
    "    print(\"Holiday pay: \"+ \"${0:.2f}\".format(holiday_pay));\n",
    "    print(\"Gross pay: \"+ \"${0:.2f}\".format(gross_pay));"
   ]
  },
  {
   "cell_type": "code",
   "execution_count": 3,
   "id": "03c7b0f4",
   "metadata": {},
   "outputs": [
    {
     "name": "stdout",
     "output_type": "stream",
     "text": [
      "Payroll Calcuator\n",
      "\n",
      "Program Requirements\n",
      "1. Must use float data type for user input.\n",
      "2. Overtime rate: 1.5 times hourly rate (hours over 40).\n",
      "3. Holiday rate: 2.0 times hourly rate (all holiday hours).\n",
      "4. Must format currency with dollar sign, and round to two decimal places.\n",
      "5. Create at least three functios that are caed by the program:\n",
      "\ta. main(): cals at least two other functions\tb. get_requirements(): displays the program requirements.\tc. calculate_payroll(): calcuates an individual one week paycheck.\n",
      "\n",
      "Input:\n",
      "\n",
      "Enter hours worked: 40\n",
      "Enter holiday hours: 10\n",
      "Enter hourly pay rate: 10\n",
      "\n",
      "Output:\n",
      "\n",
      "Base pay: $400.00\n",
      "Overtime pay: $0.00\n",
      "Holiday pay: $200.00\n",
      "Gross pay: $600.00\n"
     ]
    }
   ],
   "source": [
    "import functions as f\n",
    "\n",
    "def main():\n",
    "    f.get_requirements()\n",
    "    f.payroll()\n",
    "\n",
    "main()"
   ]
  },
  {
   "cell_type": "code",
   "execution_count": 4,
   "id": "d7c7aa3b",
   "metadata": {},
   "outputs": [
    {
     "name": "stdout",
     "output_type": "stream",
     "text": [
      "Payroll Calcuator\n",
      "\n",
      "Program Requirements\n",
      "1. Must use float data type for user input.\n",
      "2. Overtime rate: 1.5 times hourly rate (hours over 40).\n",
      "3. Holiday rate: 2.0 times hourly rate (all holiday hours).\n",
      "4. Must format currency with dollar sign, and round to two decimal places.\n",
      "5. Create at least three functios that are caed by the program:\n",
      "\ta. main(): cals at least two other functions\tb. get_requirements(): displays the program requirements.\tc. calculate_payroll(): calcuates an individual one week paycheck.\n",
      "\n",
      "Input:\n",
      "\n",
      "Enter hours worked: 50\n",
      "Enter holiday hours: 10\n",
      "Enter hourly pay rate: 10\n",
      "\n",
      "Output:\n",
      "\n",
      "Base pay: $400.00\n",
      "Overtime pay: $150.00\n",
      "Holiday pay: $200.00\n",
      "Gross pay: $750.00\n"
     ]
    }
   ],
   "source": [
    "import functions as f\n",
    "\n",
    "def main():\n",
    "    f.get_requirements()\n",
    "    f.payroll()\n",
    "\n",
    "main()"
   ]
  }
 ],
 "metadata": {
  "kernelspec": {
   "display_name": "Python 3",
   "language": "python",
   "name": "python3"
  },
  "language_info": {
   "codemirror_mode": {
    "name": "ipython",
    "version": 3
   },
   "file_extension": ".py",
   "mimetype": "text/x-python",
   "name": "python",
   "nbconvert_exporter": "python",
   "pygments_lexer": "ipython3",
   "version": "3.8.8"
  }
 },
 "nbformat": 4,
 "nbformat_minor": 5
}
